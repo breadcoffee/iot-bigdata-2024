{
 "cells": [
  {
   "cell_type": "markdown",
   "metadata": {},
   "source": [
    "### PyTorch\n",
    "\n",
    "<img src=\"https://upload.wikimedia.org/wikipedia/commons/thumb/c/c6/PyTorch_logo_black.svg/1920px-PyTorch_logo_black.svg.png\"\n",
    "    width=\"700\" style=\"background:white\">\n",
    "\n",
    "- https://pytorch.org/ 공식사이트\n",
    "- https://tutorials.pytorch.kr/ 튜토리얼만 한글화 사이트"
   ]
  },
  {
   "cell_type": "markdown",
   "metadata": {},
   "source": [
    "#### PyTorch 설치\n",
    "- CPU 설치\n",
    "    - 간단하지만 크래픽카드 가속 사용할 수 없음\n",
    "    - 기본 파이썬 환경 설치\n",
    "\n",
    "- GPU 설치\n",
    "    - 가상환경 생성, 설치\n",
    "\n",
    "##### CPU 설치\n",
    "    - https://pytorch.org/get-started/locally/ 나와있는 Note에서 해당 플랫폼 종류 선택, 명령어 복사 실행"
   ]
  },
  {
   "cell_type": "code",
   "execution_count": 2,
   "metadata": {},
   "outputs": [
    {
     "name": "stdout",
     "output_type": "stream",
     "text": [
      "Requirement already satisfied: torch in c:\\dev\\langs\\python311\\lib\\site-packages (2.4.0)\n",
      "Requirement already satisfied: torchvision in c:\\dev\\langs\\python311\\lib\\site-packages (0.19.0)\n",
      "Requirement already satisfied: torchaudio in c:\\dev\\langs\\python311\\lib\\site-packages (2.4.0)\n",
      "Requirement already satisfied: filelock in c:\\dev\\langs\\python311\\lib\\site-packages (from torch) (3.13.1)\n",
      "Requirement already satisfied: typing-extensions>=4.8.0 in c:\\dev\\langs\\python311\\lib\\site-packages (from torch) (4.9.0)\n",
      "Requirement already satisfied: sympy in c:\\dev\\langs\\python311\\lib\\site-packages (from torch) (1.13.1)\n",
      "Requirement already satisfied: networkx in c:\\dev\\langs\\python311\\lib\\site-packages (from torch) (3.3)\n",
      "Requirement already satisfied: jinja2 in c:\\dev\\langs\\python311\\lib\\site-packages (from torch) (3.1.3)\n",
      "Requirement already satisfied: fsspec in c:\\dev\\langs\\python311\\lib\\site-packages (from torch) (2024.6.1)\n",
      "Requirement already satisfied: numpy<2 in c:\\dev\\langs\\python311\\lib\\site-packages (from torchvision) (1.26.3)\n",
      "Requirement already satisfied: pillow!=8.3.*,>=5.3.0 in c:\\dev\\langs\\python311\\lib\\site-packages (from torchvision) (10.2.0)\n",
      "Requirement already satisfied: MarkupSafe>=2.0 in c:\\dev\\langs\\python311\\lib\\site-packages (from jinja2->torch) (2.1.4)\n",
      "Requirement already satisfied: mpmath<1.4,>=1.1.0 in c:\\dev\\langs\\python311\\lib\\site-packages (from sympy->torch) (1.3.0)\n"
     ]
    },
    {
     "name": "stderr",
     "output_type": "stream",
     "text": [
      "\n",
      "[notice] A new release of pip is available: 24.0 -> 24.2\n",
      "[notice] To update, run: python.exe -m pip install --upgrade pip\n"
     ]
    }
   ],
   "source": [
    "!pip install torch torchvision torchaudio\n",
    "## Downloading torch-2.4.0-cp311-cp311-win_amd64.whl (197.9 MB)"
   ]
  },
  {
   "cell_type": "code",
   "execution_count": 4,
   "metadata": {},
   "outputs": [],
   "source": [
    "import torch"
   ]
  },
  {
   "cell_type": "code",
   "execution_count": 6,
   "metadata": {},
   "outputs": [
    {
     "data": {
      "text/plain": [
       "'2.4.0+cpu'"
      ]
     },
     "execution_count": 6,
     "metadata": {},
     "output_type": "execute_result"
    }
   ],
   "source": [
    "## 2.4.0+cpu = CPU 용 설치\n",
    "torch.__version__"
   ]
  },
  {
   "cell_type": "markdown",
   "metadata": {},
   "source": [
    "##### PyTorch GPU 설치\n",
    "- NVIDIA GPU에서만 가능, CUDA로 되어있기 때문\n",
    "- GPU 설치가 가능한지 먼저 확인"
   ]
  },
  {
   "cell_type": "code",
   "execution_count": 7,
   "metadata": {},
   "outputs": [
    {
     "name": "stdout",
     "output_type": "stream",
     "text": [
      "Tue Aug  6 12:31:19 2024       \n",
      "+---------------------------------------------------------------------------------------+\n",
      "| NVIDIA-SMI 536.23                 Driver Version: 536.23       CUDA Version: 12.2     |\n",
      "|-----------------------------------------+----------------------+----------------------+\n",
      "| GPU  Name                     TCC/WDDM  | Bus-Id        Disp.A | Volatile Uncorr. ECC |\n",
      "| Fan  Temp   Perf          Pwr:Usage/Cap |         Memory-Usage | GPU-Util  Compute M. |\n",
      "|                                         |                      |               MIG M. |\n",
      "|=========================================+======================+======================|\n",
      "|   0  NVIDIA GeForce GTX 1650      WDDM  | 00000000:01:00.0  On |                  N/A |\n",
      "| 50%   34C    P8               7W /  75W |    938MiB /  4096MiB |      4%      Default |\n",
      "|                                         |                      |                  N/A |\n",
      "+-----------------------------------------+----------------------+----------------------+\n",
      "                                                                                         \n",
      "+---------------------------------------------------------------------------------------+\n",
      "| Processes:                                                                            |\n",
      "|  GPU   GI   CI        PID   Type   Process name                            GPU Memory |\n",
      "|        ID   ID                                                             Usage      |\n",
      "|=======================================================================================|\n",
      "|    0   N/A  N/A       740    C+G   ...n\\126.0.2592.113\\msedgewebview2.exe    N/A      |\n",
      "|    0   N/A  N/A      5600    C+G   ...r\\AppData\\Roaming\\Zoom\\bin\\Zoom.exe    N/A      |\n",
      "|    0   N/A  N/A      7768    C+G   C:\\Windows\\explorer.exe                   N/A      |\n",
      "|    0   N/A  N/A      8824    C+G   ...nt.CBS_cw5n1h2txyewy\\SearchHost.exe    N/A      |\n",
      "|    0   N/A  N/A      8848    C+G   ...2txyewy\\StartMenuExperienceHost.exe    N/A      |\n",
      "|    0   N/A  N/A     10172    C+G   ...5n1h2txyewy\\ShellExperienceHost.exe    N/A      |\n",
      "|    0   N/A  N/A     11884    C+G   ...ekyb3d8bbwe\\PhoneExperienceHost.exe    N/A      |\n",
      "|    0   N/A  N/A     12472    C+G   ...CBS_cw5n1h2txyewy\\TextInputHost.exe    N/A      |\n",
      "|    0   N/A  N/A     13744    C+G   ...es\\Umba Corp\\Umba\\UmbaWallpaper.exe    N/A      |\n",
      "|    0   N/A  N/A     14140    C+G   ...20.0.2210.91.x64\\msedgewebview2.exe    N/A      |\n",
      "|    0   N/A  N/A     15080    C+G   ...20.0.2210.91.x64\\msedgewebview2.exe    N/A      |\n",
      "|    0   N/A  N/A     15668    C+G   ...n\\126.0.2592.113\\msedgewebview2.exe    N/A      |\n",
      "|    0   N/A  N/A     16404    C+G   ....5536.0_x64__8j3eq9eme6ctt\\IGCC.exe    N/A      |\n",
      "|    0   N/A  N/A     17760    C+G   ...Desktop\\app-3.4.2\\GitHubDesktop.exe    N/A      |\n",
      "|    0   N/A  N/A     18244    C+G   C:\\DEV\\IDE\\Microsoft VS Code\\Code.exe     N/A      |\n",
      "|    0   N/A  N/A     20124    C+G   ...n\\126.0.2592.113\\msedgewebview2.exe    N/A      |\n",
      "|    0   N/A  N/A     23320    C+G   ...siveControlPanel\\SystemSettings.exe    N/A      |\n",
      "+---------------------------------------------------------------------------------------+\n"
     ]
    }
   ],
   "source": [
    "!nvidia-smi"
   ]
  },
  {
   "cell_type": "markdown",
   "metadata": {},
   "source": [
    "#### GPU용 파이썬 가상환경 만들기\n",
    "\n",
    "- 터미널 오픈\n",
    "    - virtualenv 확인\n",
    "    - pip list\n",
    "    - 없으면 pip install virtualenv\n",
    "\n",
    "- 가상환경 활성화\n",
    "    - cd gpu_env\\Scripts\\activate\n",
    "\n",
    "- PyTorch GPU 설치\n",
    "    - 파이토치 GetStarted 사이트에서 명령어 확인\n",
    "    - pip install torch torchvision torchaudio --index-url https://download.pytorch.org/whl/cu121"
   ]
  },
  {
   "cell_type": "markdown",
   "metadata": {},
   "source": [
    "##### 파이토치 GPU 확인"
   ]
  },
  {
   "cell_type": "code",
   "execution_count": 2,
   "metadata": {},
   "outputs": [],
   "source": [
    "import torch"
   ]
  },
  {
   "cell_type": "code",
   "execution_count": 4,
   "metadata": {},
   "outputs": [
    {
     "data": {
      "text/plain": [
       "'2.4.0+cu121'"
      ]
     },
     "execution_count": 4,
     "metadata": {},
     "output_type": "execute_result"
    }
   ],
   "source": [
    "## 2.4.0+cu121 --> CUDA 12.1 버전의 PyTorch\n",
    "torch.__version__"
   ]
  },
  {
   "cell_type": "code",
   "execution_count": 5,
   "metadata": {},
   "outputs": [
    {
     "data": {
      "text/plain": [
       "True"
      ]
     },
     "execution_count": 5,
     "metadata": {},
     "output_type": "execute_result"
    }
   ],
   "source": [
    "## CUDA 쓸 수 있는지 확인\n",
    "torch.cuda.is_available()"
   ]
  },
  {
   "cell_type": "code",
   "execution_count": 6,
   "metadata": {},
   "outputs": [
    {
     "data": {
      "text/plain": [
       "'NVIDIA GeForce GTX 1650'"
      ]
     },
     "execution_count": 6,
     "metadata": {},
     "output_type": "execute_result"
    }
   ],
   "source": [
    "## 설치된 CUDA가 동작하는 그래픽카드 정보확인\n",
    "torch.cuda.get_device_name(0)"
   ]
  },
  {
   "cell_type": "markdown",
   "metadata": {},
   "source": [
    "#### 이제부터 GPU 가속으로 파이토치(텐서플로우 가능) 딥러닝을 할 수 있음"
   ]
  },
  {
   "cell_type": "code",
   "execution_count": null,
   "metadata": {},
   "outputs": [],
   "source": []
  }
 ],
 "metadata": {
  "kernelspec": {
   "display_name": "Python 3",
   "language": "python",
   "name": "python3"
  },
  "language_info": {
   "codemirror_mode": {
    "name": "ipython",
    "version": 3
   },
   "file_extension": ".py",
   "mimetype": "text/x-python",
   "name": "python",
   "nbconvert_exporter": "python",
   "pygments_lexer": "ipython3",
   "version": "3.11.5"
  }
 },
 "nbformat": 4,
 "nbformat_minor": 2
}

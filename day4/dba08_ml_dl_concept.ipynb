{
 "cells": [
  {
   "cell_type": "markdown",
   "metadata": {},
   "source": [
    "### 머신러닝, 딥러닝 기초\n",
    "\n",
    "- 지능(Intelligence) : 어떠한 문제를 해결하기 위한 지적(뇌를 사용한)인 활동능력\n",
    "- 인공지능(Artificial Intelligence) : 기계가 사람의 지능을 모방하는 기술\n",
    "- 인공지능 개념이 나온건 1950년대이지만 실제로 사용할 수 있게 되기까지는 60년 정도 걸렸음\n",
    "\n",
    "#### 인공지능 목표\n",
    "- 인간이 하는 모든 일을 인공지능을 탑재한 기꼐가 모두 해내도록 만드는 것\n",
    "\n",
    "\n",
    "#### 인공지능 종류\n",
    "- 약 인공지능과 강 인공지능으로 분류\n",
    "    - 약 인공지능(Weak AI) : 사람이 쉽게 처리할 수 있었지만, 컴퓨터로 하기 여려웠던 일을 수행할 수 있게 하는 인공지능"
   ]
  },
  {
   "cell_type": "code",
   "execution_count": null,
   "metadata": {},
   "outputs": [],
   "source": []
  }
 ],
 "metadata": {
  "language_info": {
   "name": "python"
  }
 },
 "nbformat": 4,
 "nbformat_minor": 2
}
